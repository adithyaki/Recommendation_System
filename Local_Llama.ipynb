{
 "cells": [
  {
   "cell_type": "code",
   "execution_count": null,
   "id": "446d3f4e",
   "metadata": {},
   "outputs": [],
   "source": [
    "!pip install langchain-community openpyxl"
   ]
  },
  {
   "cell_type": "code",
   "execution_count": 1,
   "id": "8c3faf9e",
   "metadata": {},
   "outputs": [],
   "source": [
    "from langchain_community.llms import Ollama\n",
    "import pandas as pd\n",
    "from tqdm import tqdm\n",
    "import time"
   ]
  },
  {
   "cell_type": "code",
   "execution_count": 13,
   "id": "af7fd42b",
   "metadata": {},
   "outputs": [],
   "source": [
    "llm = Ollama(model=\"llama3.1\")"
   ]
  },
  {
   "cell_type": "code",
   "execution_count": null,
   "id": "7314414a",
   "metadata": {},
   "outputs": [],
   "source": [
    "#s = \"\"\"what is Chat-Gpt\"\"\""
   ]
  },
  {
   "cell_type": "code",
   "execution_count": null,
   "id": "b063b4b2",
   "metadata": {},
   "outputs": [],
   "source": [
    "#llm.invoke(s)"
   ]
  },
  {
   "cell_type": "code",
   "execution_count": 6,
   "id": "861f487f",
   "metadata": {},
   "outputs": [],
   "source": [
    "df = pd.read_csv(\"2years_file.csv\")"
   ]
  },
  {
   "cell_type": "code",
   "execution_count": 7,
   "id": "16531f1e",
   "metadata": {},
   "outputs": [
    {
     "data": {
      "text/html": [
       "<div>\n",
       "<style scoped>\n",
       "    .dataframe tbody tr th:only-of-type {\n",
       "        vertical-align: middle;\n",
       "    }\n",
       "\n",
       "    .dataframe tbody tr th {\n",
       "        vertical-align: top;\n",
       "    }\n",
       "\n",
       "    .dataframe thead th {\n",
       "        text-align: right;\n",
       "    }\n",
       "</style>\n",
       "<table border=\"1\" class=\"dataframe\">\n",
       "  <thead>\n",
       "    <tr style=\"text-align: right;\">\n",
       "      <th></th>\n",
       "      <th>detailed_description</th>\n",
       "    </tr>\n",
       "  </thead>\n",
       "  <tbody>\n",
       "    <tr>\n",
       "      <th>0</th>\n",
       "      <td>Incident Details: Error - ====================...</td>\n",
       "    </tr>\n",
       "    <tr>\n",
       "      <th>1</th>\n",
       "      <td>UR RED_SCORPION Timeout Errors\\n\\nAlert Thresh...</td>\n",
       "    </tr>\n",
       "    <tr>\n",
       "      <th>2</th>\n",
       "      <td>Incident Details: Error - ====================...</td>\n",
       "    </tr>\n",
       "    <tr>\n",
       "      <th>3</th>\n",
       "      <td>Incident Details: Error - ====================...</td>\n",
       "    </tr>\n",
       "    <tr>\n",
       "      <th>4</th>\n",
       "      <td>Incident Details: Error - ====================...</td>\n",
       "    </tr>\n",
       "    <tr>\n",
       "      <th>...</th>\n",
       "      <td>...</td>\n",
       "    </tr>\n",
       "    <tr>\n",
       "      <th>992</th>\n",
       "      <td>Incident Details: Error - ====================...</td>\n",
       "    </tr>\n",
       "    <tr>\n",
       "      <th>993</th>\n",
       "      <td>Incident Details: Error - ====================...</td>\n",
       "    </tr>\n",
       "    <tr>\n",
       "      <th>994</th>\n",
       "      <td>Incident Details: Error - ====================...</td>\n",
       "    </tr>\n",
       "    <tr>\n",
       "      <th>995</th>\n",
       "      <td>Incident Details: Error - ====================...</td>\n",
       "    </tr>\n",
       "    <tr>\n",
       "      <th>996</th>\n",
       "      <td>Incident Details: Error - ====================...</td>\n",
       "    </tr>\n",
       "  </tbody>\n",
       "</table>\n",
       "<p>997 rows × 1 columns</p>\n",
       "</div>"
      ],
      "text/plain": [
       "                                  detailed_description\n",
       "0    Incident Details: Error - ====================...\n",
       "1    UR RED_SCORPION Timeout Errors\\n\\nAlert Thresh...\n",
       "2    Incident Details: Error - ====================...\n",
       "3    Incident Details: Error - ====================...\n",
       "4    Incident Details: Error - ====================...\n",
       "..                                                 ...\n",
       "992  Incident Details: Error - ====================...\n",
       "993  Incident Details: Error - ====================...\n",
       "994  Incident Details: Error - ====================...\n",
       "995  Incident Details: Error - ====================...\n",
       "996  Incident Details: Error - ====================...\n",
       "\n",
       "[997 rows x 1 columns]"
      ]
     },
     "execution_count": 7,
     "metadata": {},
     "output_type": "execute_result"
    }
   ],
   "source": [
    "df.dropna(axis=0)"
   ]
  },
  {
   "cell_type": "code",
   "execution_count": 8,
   "id": "31991587",
   "metadata": {},
   "outputs": [
    {
     "data": {
      "text/html": [
       "<div>\n",
       "<style scoped>\n",
       "    .dataframe tbody tr th:only-of-type {\n",
       "        vertical-align: middle;\n",
       "    }\n",
       "\n",
       "    .dataframe tbody tr th {\n",
       "        vertical-align: top;\n",
       "    }\n",
       "\n",
       "    .dataframe thead th {\n",
       "        text-align: right;\n",
       "    }\n",
       "</style>\n",
       "<table border=\"1\" class=\"dataframe\">\n",
       "  <thead>\n",
       "    <tr style=\"text-align: right;\">\n",
       "      <th></th>\n",
       "      <th>detailed_description</th>\n",
       "    </tr>\n",
       "  </thead>\n",
       "  <tbody>\n",
       "    <tr>\n",
       "      <th>0</th>\n",
       "      <td>Incident Details: Error - ====================...</td>\n",
       "    </tr>\n",
       "    <tr>\n",
       "      <th>1</th>\n",
       "      <td>UR RED_SCORPION Timeout Errors\\n\\nAlert Thresh...</td>\n",
       "    </tr>\n",
       "    <tr>\n",
       "      <th>2</th>\n",
       "      <td>Incident Details: Error - ====================...</td>\n",
       "    </tr>\n",
       "    <tr>\n",
       "      <th>3</th>\n",
       "      <td>Incident Details: Error - ====================...</td>\n",
       "    </tr>\n",
       "    <tr>\n",
       "      <th>4</th>\n",
       "      <td>Incident Details: Error - ====================...</td>\n",
       "    </tr>\n",
       "  </tbody>\n",
       "</table>\n",
       "</div>"
      ],
      "text/plain": [
       "                                detailed_description\n",
       "0  Incident Details: Error - ====================...\n",
       "1  UR RED_SCORPION Timeout Errors\\n\\nAlert Thresh...\n",
       "2  Incident Details: Error - ====================...\n",
       "3  Incident Details: Error - ====================...\n",
       "4  Incident Details: Error - ====================..."
      ]
     },
     "execution_count": 8,
     "metadata": {},
     "output_type": "execute_result"
    }
   ],
   "source": [
    "df.head()"
   ]
  },
  {
   "cell_type": "code",
   "execution_count": null,
   "id": "38eea410",
   "metadata": {},
   "outputs": [],
   "source": [
    "df_sample = df.head(2)"
   ]
  },
  {
   "cell_type": "code",
   "execution_count": null,
   "id": "3c208208",
   "metadata": {},
   "outputs": [],
   "source": [
    "len(df_sample)"
   ]
  },
  {
   "cell_type": "code",
   "execution_count": 10,
   "id": "4206ae74",
   "metadata": {},
   "outputs": [],
   "source": [
    "# Examples for the prompt\n",
    "examples = r\"\"\"\n",
    "1. Root Cause: Missing Product Configuration in UR based on \"Error Code   CHIPMUNK   Get Product by ProductId failed.\"\n",
    "2. Root Cause: Issue with ESP based on  \"Error or Failed file transmission\"\n",
    "3. Root Cause: Duplicate file found based on \"EXIT MESSAGE     FATAL DUPLICATE run found\"\n",
    "4. Root Cause: Issue with UR/Core application based on \"Error Code  BLACK_DUNG_BEETLE   Observable onError\"\n",
    "5. Root Cause: Issue with input data files based on \"INCOMPLETE_FILE_BLOCK  AFP Statement Block is incomplete (Incomplete BNG/ENG Pair).The statment block was not closed\"\n",
    "6. Root Cause: Issue with Linux configuration for mounted directories based on  \"Could not open file\"\n",
    "   \n",
    "\"\"\"  \n"
   ]
  },
  {
   "cell_type": "code",
   "execution_count": 14,
   "id": "91f231b3",
   "metadata": {},
   "outputs": [],
   "source": [
    "# Define a function to invoke the model with the added prompt and examples\n",
    "def invoke_model(row):\n",
    "    input_text = (\n",
    "        f\"{examples} Please watch the above Root Cause examples and provide the output for the below error in the same manner as Root Cause. \"\n",
    "        f\"Error: '{row['Detailed Description']}'. \"\n",
    "        f\"Your response should be the root cause with a maximum of 20 words and no extra keywords.\"\n",
    "    )\n",
    "    result = llm.invoke(input_text)\n",
    "    return result"
   ]
  },
  {
   "cell_type": "code",
   "execution_count": null,
   "id": "cebdd218",
   "metadata": {},
   "outputs": [
    {
     "name": "stderr",
     "output_type": "stream",
     "text": [
      "  1%|          | 12/997 [20:16<31:24:30, 114.79s/it]"
     ]
    }
   ],
   "source": [
    "# Measure the total runtime\n",
    "start_time = time.time()\n",
    "\n",
    "# Apply the function to each row with tqdm for progress tracking\n",
    "tqdm.pandas()\n",
    "df['Llama_response'] = df.progress_apply(invoke_model, axis=1)\n",
    "\n",
    "end_time = time.time()\n",
    "total_runtime = end_time - start_time\n",
    "print(f\"Total runtime: {total_runtime:.2f} seconds\")"
   ]
  },
  {
   "cell_type": "code",
   "execution_count": null,
   "id": "77fe7f18",
   "metadata": {},
   "outputs": [],
   "source": [
    "df.to_excel(\"Llama_test.xlsx\", index=False)"
   ]
  },
  {
   "cell_type": "code",
   "execution_count": null,
   "id": "6295ac98",
   "metadata": {},
   "outputs": [],
   "source": []
  },
  {
   "cell_type": "code",
   "execution_count": null,
   "id": "9b0664a5",
   "metadata": {},
   "outputs": [],
   "source": []
  },
  {
   "cell_type": "code",
   "execution_count": null,
   "id": "4546db7f",
   "metadata": {},
   "outputs": [],
   "source": []
  }
 ],
 "metadata": {
  "kernelspec": {
   "display_name": "conda_pytorch_p310",
   "language": "python",
   "name": "conda_pytorch_p310"
  },
  "language_info": {
   "codemirror_mode": {
    "name": "ipython",
    "version": 3
   },
   "file_extension": ".py",
   "mimetype": "text/x-python",
   "name": "python",
   "nbconvert_exporter": "python",
   "pygments_lexer": "ipython3",
   "version": "3.10.14"
  }
 },
 "nbformat": 4,
 "nbformat_minor": 5
}
