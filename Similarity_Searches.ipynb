{
 "cells": [
  {
   "cell_type": "code",
   "execution_count": 4,
   "id": "aea3f712-3d2d-477a-a10d-60dcb833589a",
   "metadata": {},
   "outputs": [],
   "source": [
    "import pandas as pd"
   ]
  },
  {
   "cell_type": "code",
   "execution_count": 5,
   "id": "c15829b3-da36-4a8e-a559-2f9d033d4bc0",
   "metadata": {},
   "outputs": [
    {
     "data": {
      "text/html": [
       "<div>\n",
       "<style scoped>\n",
       "    .dataframe tbody tr th:only-of-type {\n",
       "        vertical-align: middle;\n",
       "    }\n",
       "\n",
       "    .dataframe tbody tr th {\n",
       "        vertical-align: top;\n",
       "    }\n",
       "\n",
       "    .dataframe thead th {\n",
       "        text-align: right;\n",
       "    }\n",
       "</style>\n",
       "<table border=\"1\" class=\"dataframe\">\n",
       "  <thead>\n",
       "    <tr style=\"text-align: right;\">\n",
       "      <th></th>\n",
       "      <th>incident_number</th>\n",
       "      <th>application</th>\n",
       "      <th>error_code</th>\n",
       "      <th>microservice</th>\n",
       "      <th>description</th>\n",
       "      <th>detailed_description</th>\n",
       "      <th>combined_text</th>\n",
       "      <th>resolution_comments</th>\n",
       "    </tr>\n",
       "  </thead>\n",
       "  <tbody>\n",
       "    <tr>\n",
       "      <th>0</th>\n",
       "      <td>INC000005184952</td>\n",
       "      <td>NaN</td>\n",
       "      <td>NaN</td>\n",
       "      <td>NaN</td>\n",
       "      <td>NaN</td>\n",
       "      <td>AP:PRD:UR: Authorization has failed\\n\\nAlert T...</td>\n",
       "      <td>AP:PRD:UR: Authorization has failed\\n\\nAle...</td>\n",
       "      <td>Changed Group assignment to Universal Reposito...</td>\n",
       "    </tr>\n",
       "    <tr>\n",
       "      <th>1</th>\n",
       "      <td>INC000005183351</td>\n",
       "      <td>DIGITAL_PLATFORM</td>\n",
       "      <td>ServiceException</td>\n",
       "      <td>ur-api-gateway</td>\n",
       "      <td>Cassandra timeout during read query at consist...</td>\n",
       "      <td>Stage:prod\\nMicroservice:\\tur-api-gateway\\nTra...</td>\n",
       "      <td>DIGITAL_PLATFORM ServiceException ur-api-gatew...</td>\n",
       "      <td>Changed Group assignment to Universal Reposito...</td>\n",
       "    </tr>\n",
       "    <tr>\n",
       "      <th>2</th>\n",
       "      <td>INC000005183248</td>\n",
       "      <td>DIGITAL_PLATFORM</td>\n",
       "      <td>ServiceException</td>\n",
       "      <td>ur-api-gateway</td>\n",
       "      <td>Cassandra timeout during read query at consist...</td>\n",
       "      <td>Stage:prod\\nMicroservice:\\tur-api-gateway\\nTra...</td>\n",
       "      <td>DIGITAL_PLATFORM ServiceException ur-api-gatew...</td>\n",
       "      <td>Changed Group assignment to Universal Reposito...</td>\n",
       "    </tr>\n",
       "    <tr>\n",
       "      <th>3</th>\n",
       "      <td>INC000005183246</td>\n",
       "      <td>DIGITAL_PLATFORM</td>\n",
       "      <td>ServiceException</td>\n",
       "      <td>ur-api-gateway</td>\n",
       "      <td>Cassandra timeout during read query at consist...</td>\n",
       "      <td>Stage:prod\\nMicroservice:\\tur-api-gateway\\nTra...</td>\n",
       "      <td>DIGITAL_PLATFORM ServiceException ur-api-gatew...</td>\n",
       "      <td>Changed Group assignment to Universal Reposito...</td>\n",
       "    </tr>\n",
       "    <tr>\n",
       "      <th>4</th>\n",
       "      <td>INC000005180860</td>\n",
       "      <td>Customer Communications-&gt;Digital-&gt;Presentment ...</td>\n",
       "      <td>NaN</td>\n",
       "      <td>NaN</td>\n",
       "      <td>NaN</td>\n",
       "      <td>Summary of the issue: ICMA - removal of digita...</td>\n",
       "      <td>Customer Communications-&gt;Digital-&gt;Presentment ...</td>\n",
       "      <td>Changed Group assignment to EDH CSM9 Assigned ...</td>\n",
       "    </tr>\n",
       "  </tbody>\n",
       "</table>\n",
       "</div>"
      ],
      "text/plain": [
       "   incident_number                                        application  \\\n",
       "0  INC000005184952                                                NaN   \n",
       "1  INC000005183351                                   DIGITAL_PLATFORM   \n",
       "2  INC000005183248                                   DIGITAL_PLATFORM   \n",
       "3  INC000005183246                                   DIGITAL_PLATFORM   \n",
       "4  INC000005180860  Customer Communications->Digital->Presentment ...   \n",
       "\n",
       "         error_code    microservice  \\\n",
       "0               NaN             NaN   \n",
       "1  ServiceException  ur-api-gateway   \n",
       "2  ServiceException  ur-api-gateway   \n",
       "3  ServiceException  ur-api-gateway   \n",
       "4               NaN             NaN   \n",
       "\n",
       "                                         description  \\\n",
       "0                                                NaN   \n",
       "1  Cassandra timeout during read query at consist...   \n",
       "2  Cassandra timeout during read query at consist...   \n",
       "3  Cassandra timeout during read query at consist...   \n",
       "4                                                NaN   \n",
       "\n",
       "                                detailed_description  \\\n",
       "0  AP:PRD:UR: Authorization has failed\\n\\nAlert T...   \n",
       "1  Stage:prod\\nMicroservice:\\tur-api-gateway\\nTra...   \n",
       "2  Stage:prod\\nMicroservice:\\tur-api-gateway\\nTra...   \n",
       "3  Stage:prod\\nMicroservice:\\tur-api-gateway\\nTra...   \n",
       "4  Summary of the issue: ICMA - removal of digita...   \n",
       "\n",
       "                                       combined_text  \\\n",
       "0      AP:PRD:UR: Authorization has failed\\n\\nAle...   \n",
       "1  DIGITAL_PLATFORM ServiceException ur-api-gatew...   \n",
       "2  DIGITAL_PLATFORM ServiceException ur-api-gatew...   \n",
       "3  DIGITAL_PLATFORM ServiceException ur-api-gatew...   \n",
       "4  Customer Communications->Digital->Presentment ...   \n",
       "\n",
       "                                 resolution_comments  \n",
       "0  Changed Group assignment to Universal Reposito...  \n",
       "1  Changed Group assignment to Universal Reposito...  \n",
       "2  Changed Group assignment to Universal Reposito...  \n",
       "3  Changed Group assignment to Universal Reposito...  \n",
       "4  Changed Group assignment to EDH CSM9 Assigned ...  "
      ]
     },
     "execution_count": 5,
     "metadata": {},
     "output_type": "execute_result"
    }
   ],
   "source": [
    "df = pd.read_excel('Data.xlsx')\n",
    "df.head(5)"
   ]
  },
  {
   "cell_type": "code",
   "execution_count": 9,
   "id": "6205149c-a6ce-4ddc-a72c-3ea806161b3f",
   "metadata": {},
   "outputs": [],
   "source": [
    "df['combined_text'] = df[\"application\"] + df[\"error_code\"] + df[\"description\"] + df[\"detailed_description\"]"
   ]
  },
  {
   "cell_type": "code",
   "execution_count": 10,
   "id": "2c576e5e-604a-4551-847d-ff1b5961ec53",
   "metadata": {},
   "outputs": [
    {
     "data": {
      "text/plain": [
       "0                                                  NaN\n",
       "1    DIGITAL_PLATFORMServiceExceptionCassandra time...\n",
       "2    DIGITAL_PLATFORMServiceExceptionCassandra time...\n",
       "3    DIGITAL_PLATFORMServiceExceptionCassandra time...\n",
       "4                                                  NaN\n",
       "Name: combined_text, dtype: object"
      ]
     },
     "execution_count": 10,
     "metadata": {},
     "output_type": "execute_result"
    }
   ],
   "source": [
    "df['combined_text'].head()"
   ]
  },
  {
   "cell_type": "code",
   "execution_count": null,
   "id": "a4ffa0c3-aa6c-49ed-8c87-3cc466a05d82",
   "metadata": {},
   "outputs": [],
   "source": [
    "from sentence_transformers import SentenceTransformer\n",
    "model = SentenceTransformer('all-MiniLM-L6-v2')"
   ]
  },
  {
   "cell_type": "code",
   "execution_count": null,
   "id": "ab60dbe6-caf8-4333-9e45-b6cf40128b02",
   "metadata": {},
   "outputs": [],
   "source": [
    "# Generate embeddings\n",
    "embeddings = model.encode(df['combined_text'].tolist(), show_progress_bar=True)"
   ]
  },
  {
   "cell_type": "code",
   "execution_count": null,
   "id": "75a71d1f-4844-4f26-a304-b5aca8a9996f",
   "metadata": {},
   "outputs": [],
   "source": [
    "import faiss\n",
    "import numpy as np\n",
    "\n",
    "# Number of dimensions for the embeddings\n",
    "d = embeddings.shape[1]\n",
    "\n",
    "# Build the index\n",
    "index = faiss.IndexFlatL2(d)\n",
    "index.add(embeddings.astype(np.float32))\n",
    "\n",
    "# Example: searching for the 5 most similar items to a query\n",
    "def search(query, k=5):\n",
    "    query_embedding = model.encode([query])\n",
    "    D, I = index.search(query_embedding.astype(np.float32), k)\n",
    "    return df.iloc[I[0]]\n",
    "\n",
    "# Testing the search function\n",
    "results = search(\"example error code in application due to specific condition\")\n",
    "print(results['resolution_comments'])\n"
   ]
  },
  {
   "cell_type": "code",
   "execution_count": null,
   "id": "1875788d-625f-46ef-a0aa-726b56b1db37",
   "metadata": {},
   "outputs": [],
   "source": [
    "# Save FAISS index\n",
    "faiss.write_index(index, 'faiss_index.bin')\n",
    "\n",
    "# Load FAISS index\n",
    "index = faiss.read_index('faiss_index.bin')"
   ]
  },
  {
   "cell_type": "code",
   "execution_count": null,
   "id": "726f8bc6-cecd-4241-b4f8-ea203bd10ff9",
   "metadata": {},
   "outputs": [],
   "source": []
  },
  {
   "cell_type": "code",
   "execution_count": null,
   "id": "7c952bc5-5dd8-4e57-8366-0d9d45d63f9a",
   "metadata": {},
   "outputs": [],
   "source": []
  },
  {
   "cell_type": "code",
   "execution_count": null,
   "id": "9a9dbac7-afd1-4528-b09f-81f2e6966ba1",
   "metadata": {},
   "outputs": [],
   "source": []
  },
  {
   "cell_type": "code",
   "execution_count": null,
   "id": "b4a54cdd-2b19-46b6-b618-156e9599d157",
   "metadata": {},
   "outputs": [],
   "source": []
  },
  {
   "cell_type": "code",
   "execution_count": null,
   "id": "f7609640-24bb-4f72-a83e-347aeb97d932",
   "metadata": {},
   "outputs": [],
   "source": []
  },
  {
   "cell_type": "code",
   "execution_count": null,
   "id": "058971d8-0654-40c7-893f-aefb95dc690d",
   "metadata": {},
   "outputs": [],
   "source": []
  }
 ],
 "metadata": {
  "kernelspec": {
   "display_name": "Python 3 (ipykernel)",
   "language": "python",
   "name": "python3"
  },
  "language_info": {
   "codemirror_mode": {
    "name": "ipython",
    "version": 3
   },
   "file_extension": ".py",
   "mimetype": "text/x-python",
   "name": "python",
   "nbconvert_exporter": "python",
   "pygments_lexer": "ipython3",
   "version": "3.11.7"
  }
 },
 "nbformat": 4,
 "nbformat_minor": 5
}
